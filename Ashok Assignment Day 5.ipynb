{
 "cells": [
  {
   "cell_type": "markdown",
   "metadata": {},
   "source": [
    "# Ashok Assignment Day 5"
   ]
  },
  {
   "cell_type": "markdown",
   "metadata": {},
   "source": [
    "## Question 1 : \n",
    "Write a Python program to find the first 20 non-even prime natural numbers. "
   ]
  },
  {
   "cell_type": "code",
   "execution_count": 16,
   "metadata": {},
   "outputs": [
    {
     "name": "stdout",
     "output_type": "stream",
     "text": [
      "[3, 5, 7, 11, 13, 17, 19, 23, 29, 31, 37, 41, 43, 47, 53, 59, 61, 67, 71, 73]\n"
     ]
    }
   ],
   "source": [
    "nePrime =[]\n",
    "num =1\n",
    "\n",
    "while (len(nePrime) < 20):\n",
    "    div = []\n",
    "   \n",
    "    for i in range(1,num+1):\n",
    "        if (num%i == 0):\n",
    "            div.append(i)\n",
    "\n",
    "    if (len(div) == 2 and num%2 !=0):\n",
    "        nePrime.append(num)\n",
    "        \n",
    "    div.clear()   \n",
    "    num = num + 1\n",
    "\n",
    "print(nePrime)"
   ]
  },
  {
   "cell_type": "markdown",
   "metadata": {},
   "source": [
    "## Question 2 : \n",
    "Write a Python program to implement 15 functions of string"
   ]
  },
  {
   "cell_type": "code",
   "execution_count": 39,
   "metadata": {},
   "outputs": [
    {
     "name": "stdout",
     "output_type": "stream",
     "text": [
      "ASHOK\n",
      "Ashok\n",
      "ashok\n",
      "True\n",
      "True\n",
      "['Welcome ', ' to the world of ML', 'congrts']\n",
      "Welcome , To The World Of Ml,Congrts\n",
      "Ashok\n",
      "I'm from Bengaluru\n",
      "True\n",
      "True\n",
      "       Ashok        \n"
     ]
    }
   ],
   "source": [
    "a = \"Ashok\"\n",
    "b = \"Praveen\"\n",
    "\n",
    "print(a.upper())\n",
    "print(a.capitalize())\n",
    "print(a.lower())\n",
    "print(a.isalpha())\n",
    "print(a.isalnum())\n",
    "\n",
    "asplt = \"Welcome , to the world of ML,congrts\"\n",
    "print(asplt.split(','))\n",
    "print(asplt.title())\n",
    "space = \"      Ashok       \"\n",
    "print(space.strip())\n",
    "\n",
    "\n",
    "re = \"I'm from Bangalore\"\n",
    "\n",
    "red = re.replace(\"Bangalore\", \"Bengaluru\")\n",
    "\n",
    "print(red)\n",
    "print(b.startswith(\"P\"))\n",
    "\n",
    "print(a.istitle())\n",
    "print(a.center(20))"
   ]
  },
  {
   "cell_type": "markdown",
   "metadata": {},
   "source": [
    "## Question 3: \n",
    "Write a Python program to check if the given string is a Palindrome or Anagram or None of them.\n",
    "Display the message accordingly to the user. "
   ]
  },
  {
   "cell_type": "code",
   "execution_count": 18,
   "metadata": {},
   "outputs": [
    {
     "name": "stdout",
     "output_type": "stream",
     "text": [
      "Yes\n"
     ]
    }
   ],
   "source": [
    "\n",
    "\n",
    "def checkPalindrome(s): \n",
    "    return s == s[::-1] \n",
    "  \n",
    "s = \"madam\"\n",
    "rev = checkPalindrome(s) \n",
    "  \n",
    "if rev: \n",
    "    print(\"Yes\") \n",
    "else: \n",
    "    print(\"No\") "
   ]
  },
  {
   "cell_type": "markdown",
   "metadata": {},
   "source": [
    "## Question 4: \n",
    "Write a Python's user defined function that removes all the additional characters from the stringand converts it finally to lower case using built-in lower(). eg: If the string is \"Dr. Darshan Ingle@AI-ML Trainer\", then the output be \"drdarshaningleaimltrainer\".\n",
    " "
   ]
  },
  {
   "cell_type": "code",
   "execution_count": 22,
   "metadata": {},
   "outputs": [
    {
     "name": "stdout",
     "output_type": "stream",
     "text": [
      "Welcometogeeksworld\n"
     ]
    }
   ],
   "source": [
    "s = \"Welcome to geek's world\"\n",
    "a=\"\"\n",
    "\n",
    "for i in range(len(s)):\n",
    "    if(s[i].isalnum()):\n",
    "        a=a+s[i]\n",
    "print(a)"
   ]
  },
  {
   "cell_type": "markdown",
   "metadata": {},
   "source": []
  }
 ],
 "metadata": {
  "kernelspec": {
   "display_name": "Python 3",
   "language": "python",
   "name": "python3"
  },
  "language_info": {
   "codemirror_mode": {
    "name": "ipython",
    "version": 3
   },
   "file_extension": ".py",
   "mimetype": "text/x-python",
   "name": "python",
   "nbconvert_exporter": "python",
   "pygments_lexer": "ipython3",
   "version": "3.7.6"
  },
  "toc": {
   "base_numbering": 1,
   "nav_menu": {},
   "number_sections": true,
   "sideBar": true,
   "skip_h1_title": true,
   "title_cell": "Table of Contents",
   "title_sidebar": "Contents",
   "toc_cell": false,
   "toc_position": {},
   "toc_section_display": true,
   "toc_window_display": true
  }
 },
 "nbformat": 4,
 "nbformat_minor": 4
}
